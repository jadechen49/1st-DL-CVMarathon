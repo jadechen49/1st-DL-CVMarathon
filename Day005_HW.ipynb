{
 "cells": [
  {
   "cell_type": "markdown",
   "metadata": {},
   "source": [
    "# API 資料串接 - 以 Dcard API 實作範例\n",
    "\n",
    "* 了解 Dcard API 使用方式與回傳內容\n",
    "* 撰寫程式存取 API 且解析 JSON 格式資料\n"
   ]
  },
  {
   "cell_type": "markdown",
   "metadata": {},
   "source": [
    "## 作業目標\n",
    "\n",
    "* 請利用 API: https://www.dcard.tw/_api/forums/pet/posts?popular=true 回答下列問題：\n",
    "\n",
    "1. 這個 API 一次會回傳幾筆資料？每一筆資料包含哪些欄位？\n",
    "2. 取出每一筆資料的「標題」、「貼文時間」、「留言人數」、「按讚人數」\n",
    "3. 計算熱門/非熱門文章的「平均留言人數」與「平均按讚人數」"
   ]
  },
  {
   "cell_type": "code",
   "execution_count": 2,
   "metadata": {},
   "outputs": [
    {
     "name": "stdout",
     "output_type": "stream",
     "text": [
      "30\n",
      "dict_keys(['id', 'title', 'excerpt', 'anonymousSchool', 'anonymousDepartment', 'pinned', 'forumId', 'replyId', 'createdAt', 'updatedAt', 'commentCount', 'likeCount', 'withNickname', 'tags', 'topics', 'meta', 'forumName', 'forumAlias', 'nsfw', 'gender', 'school', 'replyTitle', 'mediaMeta', 'reactions', 'hidden', 'customStyle', 'isSuspiciousAccount', 'layout', 'withImages', 'withVideos', 'media', 'reportReasonText', 'postAvatar'])\n"
     ]
    }
   ],
   "source": [
    "#1. 這個 API 一次會回傳幾筆資料？每一筆資料包含哪些欄位？\n",
    "\n",
    "import requests\n",
    "re=requests.get(\"https://www.dcard.tw/_api/forums/pet/posts?popular=true\")\n",
    "\n",
    "import json\n",
    "data=json.loads(re.text)\n",
    "print(len(data))\n",
    "print(data[0].keys())"
   ]
  },
  {
   "cell_type": "code",
   "execution_count": 6,
   "metadata": {},
   "outputs": [
    {
     "name": "stdout",
     "output_type": "stream",
     "text": [
      "標題： 終於！！！帶你回家了\n",
      "貼文時間： 2020-05-19T04:26:00.734Z\n",
      "留言人數： 74 按讚人數： 1989\n",
      "標題： 不要再用紙碗做寵物頭套了\n",
      "貼文時間： 2020-05-19T03:36:13.343Z\n",
      "留言人數： 13 按讚人數： 441\n",
      "標題： 白柴界の網美\n",
      "貼文時間： 2020-05-19T17:57:03.646Z\n",
      "留言人數： 14 按讚人數： 84\n",
      "標題： 里長把狗綁在外面淋雨\n",
      "貼文時間： 2020-05-19T12:03:39.472Z\n",
      "留言人數： 4 按讚人數： 68\n",
      "標題： 幼稚園鼠寶寶🐹\n",
      "貼文時間： 2020-05-19T08:13:44.158Z\n",
      "留言人數： 16 按讚人數： 59\n",
      "標題： 我的頭真的有很臭嗎？\n",
      "貼文時間： 2020-05-19T20:19:06.638Z\n",
      "留言人數： 6 按讚人數： 27\n",
      "標題： 石虎表示：吃到飽怎麼沒營業了？\n",
      "貼文時間： 2020-05-19T15:51:16.586Z\n",
      "留言人數： 3 按讚人數： 26\n",
      "標題： 同學你的鼠🥺\n",
      "貼文時間： 2020-05-19T04:15:14.161Z\n",
      "留言人數： 6 按讚人數： 22\n",
      "標題： 虐狗的人真的很可惡！\n",
      "貼文時間： 2020-05-19T06:08:17.073Z\n",
      "留言人數： 8 按讚人數： 20\n",
      "標題： 我家樂樂\n",
      "貼文時間： 2020-05-19T17:41:50.536Z\n",
      "留言人數： 1 按讚人數： 17\n",
      "標題： 不受控的柴柴\n",
      "貼文時間： 2020-05-19T08:32:52.080Z\n",
      "留言人數： 2 按讚人數： 17\n",
      "標題： 狗狗離世了真的很想她\n",
      "貼文時間： 2020-05-19T12:07:35.976Z\n",
      "留言人數： 10 按讚人數： 11\n",
      "標題： 媽媽的雙標現場\n",
      "貼文時間： 2020-05-19T18:19:11.201Z\n",
      "留言人數： 0 按讚人數： 10\n",
      "標題： 喜歡袒露肚肚的奇怪貓咪🐱\n",
      "貼文時間： 2020-05-19T14:26:00.340Z\n",
      "留言人數： 2 按讚人數： 10\n",
      "標題： TNVR要支持嗎？\n",
      "貼文時間： 2020-05-19T04:16:48.310Z\n",
      "留言人數： 17 按讚人數： 10\n",
      "標題： 蟑螂權團體\n",
      "貼文時間： 2020-05-19T17:55:14.808Z\n",
      "留言人數： 13 按讚人數： 9\n",
      "標題： 認養黑貓(;´༎ຶД༎ຶ`)\n",
      "貼文時間： 2020-05-19T01:18:25.390Z\n",
      "留言人數： 15 按讚人數： 9\n",
      "標題： 求推薦/分享寵物外出籠\n",
      "貼文時間： 2020-05-19T09:29:36.280Z\n",
      "留言人數： 13 按讚人數： 8\n",
      "標題： 請問大家有推薦給鼠寶的特調嗎🧐\n",
      "貼文時間： 2020-05-19T11:41:44.482Z\n",
      "留言人數： 8 按讚人數： 7\n",
      "標題： 柴犬都這麼🐔掰的嗎🥺\n",
      "貼文時間： 2020-05-20T03:49:27.500Z\n",
      "留言人數： 0 按讚人數： 6\n",
      "標題： 寵物店私自繁殖\n",
      "貼文時間： 2020-05-19T15:02:14.385Z\n",
      "留言人數： 11 按讚人數： 6\n",
      "標題： 撿到一隻賽鴿\n",
      "貼文時間： 2020-05-19T14:53:03.706Z\n",
      "留言人數： 1 按讚人數： 6\n",
      "標題： 第一次幫我家的貓剃毛😂\n",
      "貼文時間： 2020-05-19T21:23:52.644Z\n",
      "留言人數： 3 按讚人數： 5\n",
      "標題： ⚠️協尋鸚鵡#永和#綠色虎皮\n",
      "貼文時間： 2020-05-19T08:47:52.933Z\n",
      "留言人數： 2 按讚人數： 5\n",
      "標題： 越減越肥的奶茶😅\n",
      "貼文時間： 2020-05-19T18:17:08.998Z\n",
      "留言人數： 1 按讚人數： 4\n",
      "標題： 新手上路！倉鼠高手幫我解答\n",
      "貼文時間： 2020-05-19T14:08:05.988Z\n",
      "留言人數： 3 按讚人數： 4\n",
      "標題： 喵喵求炮領養🐱\n",
      "貼文時間： 2020-05-19T10:32:18.508Z\n",
      "留言人數： 5 按讚人數： 4\n",
      "標題： 暗黑飼育學-人家是掌上明珠。。。我是掌上竹節蟲\n",
      "貼文時間： 2020-05-20T00:30:17.824Z\n",
      "留言人數： 0 按讚人數： 3\n",
      "標題： 請問貓尿出現這個是什麼？\n",
      "貼文時間： 2020-05-19T11:17:12.423Z\n",
      "留言人數： 3 按讚人數： 3\n",
      "標題： 我家狗狗吐了，不知道什麼原因\n",
      "貼文時間： 2020-05-19T09:45:30.991Z\n",
      "留言人數： 5 按讚人數： 3\n"
     ]
    }
   ],
   "source": [
    "# 2. 取出每一筆資料的「標題」、「貼文時間」、「留言人數」、「按讚人數」\n",
    "data=json.loads(re.text)\n",
    "for d in data:\n",
    "    print( \"標題：\",d[\"title\"])\n",
    "    print(\"貼文時間：\",d[\"createdAt\"])\n",
    "    print(\"留言人數：\",d[\"commentCount\"],\"按讚人數：\",d[\"likeCount\"])"
   ]
  },
  {
   "cell_type": "code",
   "execution_count": 18,
   "metadata": {},
   "outputs": [
    {
     "name": "stdout",
     "output_type": "stream",
     "text": [
      "非熱門文章平均留言數： 2.433333333333333\n",
      "非熱門文章平均按讚數： 7.866666666666666\n",
      "熱門文章平均留言數： 8.6\n",
      "熱門文章平均按讚數： 101.16666666666667\n"
     ]
    }
   ],
   "source": [
    "# 3. 計算熱門/非熱門文章的「平均留言人數」與「平均按讚人數」\n",
    "\n",
    "#unpopular\n",
    "import requests\n",
    "re=requests.get(\"https://www.dcard.tw/_api/forums/pet/posts?popular=false\")\n",
    "\n",
    "import json\n",
    "n_data=json.loads(re.text)\n",
    "\n",
    "#計算\n",
    "un_comment=0\n",
    "un_like=0\n",
    "for i in n_data:\n",
    "    un_comment+= i['commentCount']\n",
    "    un_like+= i['likeCount']\n",
    "print(\"非熱門文章平均留言數：\",un_comment/len(n_data))\n",
    "print(\"非熱門文章平均按讚數：\",un_like/len(n_data))\n",
    "\n",
    "#popluar\n",
    "import requests\n",
    "re=requests.get(\"https://www.dcard.tw/_api/forums/pet/posts?popular=true\")\n",
    "\n",
    "import json\n",
    "data=json.loads(re.text)\n",
    "#計算\n",
    "comment=0\n",
    "like=0\n",
    "for n in data:\n",
    "    comment+= n['commentCount']\n",
    "    like+= n['likeCount']\n",
    "print(\"熱門文章平均留言數：\",comment/len(data))\n",
    "print(\"熱門文章平均按讚數：\",like/len(data))"
   ]
  },
  {
   "cell_type": "code",
   "execution_count": null,
   "metadata": {},
   "outputs": [],
   "source": []
  },
  {
   "cell_type": "code",
   "execution_count": null,
   "metadata": {},
   "outputs": [],
   "source": []
  }
 ],
 "metadata": {
  "kernelspec": {
   "display_name": "Python 3",
   "language": "python",
   "name": "python3"
  },
  "language_info": {
   "codemirror_mode": {
    "name": "ipython",
    "version": 3
   },
   "file_extension": ".py",
   "mimetype": "text/x-python",
   "name": "python",
   "nbconvert_exporter": "python",
   "pygments_lexer": "ipython3",
   "version": "3.7.4"
  }
 },
 "nbformat": 4,
 "nbformat_minor": 2
}
